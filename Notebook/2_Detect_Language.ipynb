{
 "cells": [
  {
   "cell_type": "markdown",
   "id": "dd5979d0-5f2b-4b07-8777-9308f63f4569",
   "metadata": {},
   "source": [
    "**In this notebook, we focus on identifying and isolating English-language reviews from a larger dataset of hotel reviews. The process begins by loading the review data and applying a language detection algorithm to each review text. Reviews identified as English are then filtered for further analysis. Additionally, the notebook includes basic text cleaning steps, such as removing HTML tags, punctuation, and converting text to lowercase, to prepare the data for subsequent analysis. The cleaned and filtered English reviews are then saved to a new CSV file for use in later stages of the project.**"
   ]
  },
  {
   "cell_type": "code",
   "execution_count": 1,
   "id": "901ea052-7841-43fb-8ab7-73f4845826c2",
   "metadata": {},
   "outputs": [],
   "source": [
    "from langdetect import detect\n",
    "import pandas as pd\n",
    "import re\n",
    "import string"
   ]
  },
  {
   "cell_type": "code",
   "execution_count": 2,
   "id": "597472d1-38d2-440d-b2f1-74dc0b05f8b9",
   "metadata": {},
   "outputs": [],
   "source": [
    "df = pd.read_csv('./data/nyc_hotels.csv')"
   ]
  },
  {
   "cell_type": "code",
   "execution_count": 3,
   "id": "36d2af6d-d44f-49f2-a88a-2cb5dc9a90d7",
   "metadata": {},
   "outputs": [],
   "source": [
    "# Function to detect language\n",
    "def detect_language(text):\n",
    "    if pd.isna(text):\n",
    "        return \"unknown\"\n",
    "    try:\n",
    "        return detect(text)\n",
    "    except:\n",
    "        return \"unknown\""
   ]
  },
  {
   "cell_type": "code",
   "execution_count": 4,
   "id": "75a4f726-a09c-463b-9659-1a5b04eac11b",
   "metadata": {},
   "outputs": [],
   "source": [
    "# Apply the language detection function to the review text\n",
    "df['language'] = df['text'].apply(detect_language)"
   ]
  },
  {
   "cell_type": "code",
   "execution_count": 5,
   "id": "f82647fb-da85-418c-ad50-253e7154f785",
   "metadata": {},
   "outputs": [],
   "source": [
    "reviews_df = df[df['language'] == 'en']"
   ]
  },
  {
   "cell_type": "code",
   "execution_count": 6,
   "id": "a434d51b-be3f-46ed-9cfa-2ff26f0bb54c",
   "metadata": {
    "scrolled": true
   },
   "outputs": [
    {
     "name": "stdout",
     "output_type": "stream",
     "text": [
      "All languages shape (267057, 18)\n",
      "En languages shape (206370, 18)\n"
     ]
    }
   ],
   "source": [
    "print(f'All languages shape {df.shape}')\n",
    "print(f'En languages shape {reviews_df.shape}')"
   ]
  },
  {
   "cell_type": "code",
   "execution_count": 7,
   "id": "267e7fec-f82f-414f-b106-5d01b3e951b7",
   "metadata": {},
   "outputs": [],
   "source": [
    "# Data Cleaning"
   ]
  },
  {
   "cell_type": "code",
   "execution_count": 8,
   "id": "976e32f8-dbc6-469d-b777-ea6fdaafdefe",
   "metadata": {},
   "outputs": [],
   "source": [
    "import pandas as pd\n",
    "import re\n",
    "import string"
   ]
  },
  {
   "cell_type": "code",
   "execution_count": 9,
   "id": "482b8843-c638-44b1-aa17-f4bd2a2006b3",
   "metadata": {},
   "outputs": [],
   "source": [
    "# Function to clean text\n",
    "def basic_clean_text(text):\n",
    "    # Remove HTML tags\n",
    "    text = re.sub(r'<.*?>', '', text)\n",
    "    \n",
    "    # Remove punctuation\n",
    "    text = text.translate(str.maketrans('', '', string.punctuation))\n",
    "    \n",
    "    # Convert to lowercase\n",
    "    text = text.lower()\n",
    "    \n",
    "    return text"
   ]
  },
  {
   "cell_type": "code",
   "execution_count": 10,
   "id": "096dc196-1087-4f02-8e6e-684917c506ca",
   "metadata": {},
   "outputs": [
    {
     "data": {
      "text/html": [
       "<div>\n",
       "<style scoped>\n",
       "    .dataframe tbody tr th:only-of-type {\n",
       "        vertical-align: middle;\n",
       "    }\n",
       "\n",
       "    .dataframe tbody tr th {\n",
       "        vertical-align: top;\n",
       "    }\n",
       "\n",
       "    .dataframe thead th {\n",
       "        text-align: right;\n",
       "    }\n",
       "</style>\n",
       "<table border=\"1\" class=\"dataframe\">\n",
       "  <thead>\n",
       "    <tr style=\"text-align: right;\">\n",
       "      <th></th>\n",
       "      <th>text</th>\n",
       "      <th>cleaned_text</th>\n",
       "    </tr>\n",
       "  </thead>\n",
       "  <tbody>\n",
       "    <tr>\n",
       "      <th>0</th>\n",
       "      <td>Stayed in a king suite for 11 nights and yes i...</td>\n",
       "      <td>stayed in a king suite for 11 nights and yes i...</td>\n",
       "    </tr>\n",
       "    <tr>\n",
       "      <th>1</th>\n",
       "      <td>On every visit to NYC, the Hotel Beacon is the...</td>\n",
       "      <td>on every visit to nyc the hotel beacon is the ...</td>\n",
       "    </tr>\n",
       "    <tr>\n",
       "      <th>2</th>\n",
       "      <td>This is a great property in Midtown. We two di...</td>\n",
       "      <td>this is a great property in midtown we two dif...</td>\n",
       "    </tr>\n",
       "    <tr>\n",
       "      <th>3</th>\n",
       "      <td>The Andaz is a nice hotel in a central locatio...</td>\n",
       "      <td>the andaz is a nice hotel in a central locatio...</td>\n",
       "    </tr>\n",
       "    <tr>\n",
       "      <th>4</th>\n",
       "      <td>I have stayed at each of the US Andaz properti...</td>\n",
       "      <td>i have stayed at each of the us andaz properti...</td>\n",
       "    </tr>\n",
       "  </tbody>\n",
       "</table>\n",
       "</div>"
      ],
      "text/plain": [
       "                                                text  \\\n",
       "0  Stayed in a king suite for 11 nights and yes i...   \n",
       "1  On every visit to NYC, the Hotel Beacon is the...   \n",
       "2  This is a great property in Midtown. We two di...   \n",
       "3  The Andaz is a nice hotel in a central locatio...   \n",
       "4  I have stayed at each of the US Andaz properti...   \n",
       "\n",
       "                                        cleaned_text  \n",
       "0  stayed in a king suite for 11 nights and yes i...  \n",
       "1  on every visit to nyc the hotel beacon is the ...  \n",
       "2  this is a great property in midtown we two dif...  \n",
       "3  the andaz is a nice hotel in a central locatio...  \n",
       "4  i have stayed at each of the us andaz properti...  "
      ]
     },
     "execution_count": 10,
     "metadata": {},
     "output_type": "execute_result"
    }
   ],
   "source": [
    "# Apply the basic_clean_text function to the 'text' column\n",
    "reviews_df.loc[:, 'cleaned_text'] = reviews_df['text'].apply(basic_clean_text)\n",
    "\n",
    "# Display the first few rows of the cleaned dataset\n",
    "reviews_df[['text', 'cleaned_text']].head()"
   ]
  },
  {
   "cell_type": "code",
   "execution_count": 11,
   "id": "cf146ea6-9246-419b-996c-7609af37acd0",
   "metadata": {},
   "outputs": [],
   "source": [
    "reviews_df.to_csv('./data/eng_reviews.csv', index = False)"
   ]
  }
 ],
 "metadata": {
  "kernelspec": {
   "display_name": "Python 3 (ipykernel)",
   "language": "python",
   "name": "python3"
  },
  "language_info": {
   "codemirror_mode": {
    "name": "ipython",
    "version": 3
   },
   "file_extension": ".py",
   "mimetype": "text/x-python",
   "name": "python",
   "nbconvert_exporter": "python",
   "pygments_lexer": "ipython3",
   "version": "3.12.4"
  }
 },
 "nbformat": 4,
 "nbformat_minor": 5
}
